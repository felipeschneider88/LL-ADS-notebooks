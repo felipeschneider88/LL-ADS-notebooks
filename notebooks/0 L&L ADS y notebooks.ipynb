{
    "metadata": {
        "kernelspec": {
            "name": "SQL",
            "display_name": "SQL",
            "language": "sql"
        },
        "language_info": {
            "name": "sql",
            "version": ""
        }
    },
    "nbformat_minor": 2,
    "nbformat": 4,
    "cells": [
        {
            "cell_type": "markdown",
            "source": [
                "# L&L: Azure Data Studio y Jupyter Notebooks: Nuevas formas de administrar SQL Server\r\n",
                "\r\n",
                "En este **L&L**  vamos a explorar **Azure Data Studio** , el hermano de _VSCode_ para científicos de datos y DBAs. \r\n",
                "Veremos sus principales características, un par de ejemplos de notebooks y como están cambiando la forma en que hacemos administración de DBs en Pyxis.\r\n",
                "\r\n",
                "- [] Introdución al lenguaje Markdown \r\n",
                "- [] Introducción ADS\r\n",
                "- [x] Notebooks\r\n",
                "    - [] Python - Obtener una imagen desde una URL\r\n",
                "    - [] SQL Server - \r\n",
                "    - [] Powershell -  Obtener los procesos corriendo en el equipo\r\n",
                "\r\n",
                "\r\n",
                "Ahora vamos a ver texto en *italic*\r\n",
                "\r\n",
                "También podemos usar **Negrita**\r\n",
                "\r\n",
                "Si queremos crear un [link](https://github.com/adam-p/markdown-here/wiki/Markdown-Cheatsheet)\r\n",
                "\r\n",
                "---\r\n",
                "\r\n",
                "1. Un elemento\r\n",
                "2. El segundo\r\n",
                "* Lista sin numerar con * \r\n",
                "+ Tambien con singl de +\r\n",
                "\r\n",
                "\r\n",
                "Podemos resaltar un pedazo del `codigo` \r\n",
                "\r\n",
                "Por ultimo podemos hacer tablas\r\n",
                "\r\n",
                "| Autor        | Comentario           | Fecha  |\r\n",
                "| ------------- |:-------------:| -----:|\r\n",
                " Felipe Schneider    | documento inicial| 28/5/2020 \r\n",
                "| Kenny Bell      | Correcion de estilo      |  1-6-2020  |\r\n",
                " Juan Kiss | Algo más      |  2/6/2020   \r\n",
                "\r\n",
                "---\r\n",
                "\r\n",
                "Y entonces, como arrancó esto. Le comenté a Xavier y el me dijo:\r\n",
                "> Que bueno que esta esto de los notebooks. Capaz está bueno para hcer un L&L\r\n",
                ""
            ],
            "metadata": {
                "azdata_cell_guid": "0caa9c01-6188-41f1-b828-d11c1d73fa04"
            }
        }
    ]
}