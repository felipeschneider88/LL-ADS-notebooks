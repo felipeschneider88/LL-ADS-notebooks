{
    "metadata": {
        "kernelspec": {
            "name": "powershell",
            "display_name": "PowerShell"
        },
        "language_info": {
            "name": "powershell",
            "codemirror_mode": "shell",
            "mimetype": "text/x-sh",
            "file_extension": ".ps1"
        }
    },
    "nbformat_minor": 2,
    "nbformat": 4,
    "cells": [
        {
            "cell_type": "markdown",
            "source": [
                "# Ejemplo Powershell\r\n",
                "\r\n",
                "Como puedo saber mi IP?"
            ],
            "metadata": {
                "azdata_cell_guid": "107366e0-dcd7-41b0-8035-48c1aa0b4ba0"
            }
        },
        {
            "cell_type": "code",
            "source": [
                "$res =Invoke-WebRequest ifconfig.io\r\n",
                "$res.Content | findstr \"IP Address\""
            ],
            "metadata": {
                "azdata_cell_guid": "8520eb03-5863-4160-9394-764d7ae6475e"
            },
            "outputs": [
                {
                    "name": "stdout",
                    "text": "            <div class=\"col-sm-3\">IP Address</div><div class=\"col-sm-9\">186.52.159.86</div>\n",
                    "output_type": "stream"
                }
            ],
            "execution_count": 2
        },
        {
            "cell_type": "markdown",
            "source": [
                "## Hay una forma más facil de hacerlo? \r\n",
                "\r\n",
                "Si, porque cURL es más sencillo"
            ],
            "metadata": {
                "azdata_cell_guid": "5ed6081d-a480-4472-93c2-40f664790e02"
            }
        },
        {
            "cell_type": "code",
            "source": [
                "\"remove-item alias:curl\" > $PROFILE\r\n",
                "curl ifconfig.io"
            ],
            "metadata": {
                "azdata_cell_guid": "bf743ccc-8df9-473b-b8a1-008e010debeb"
            },
            "outputs": [
                {
                    "name": "stdout",
                    "text": "\n\nStatusCode        : 200\nStatusDescription : OK\nContent           : <!doctype html>\n                    <html>\n                      <head>\n                        <meta charset=\"utf-8\" />\n                        <meta name=\"viewport\" content=\"width=device-width, initial-scale=1\" />\n                        <link rel=\"stylesheet\" href=\"//cdnjs.cloudflare.com/ajax/lib...\nRawContent        : HTTP/1.1 200 OK\n                    Transfer-Encoding: chunked\n                    Connection: keep-alive\n                    CF-Cache-Status: DYNAMIC\n                    cf-request-id: 03123bc2bf000067a19e8c6200000001\n                    CF-RAY: 59ca2f179f7f67a1-EZE\n                    alt-svc: h3-27=\":443\"; ma=...\nForms             : {}\nHeaders           : {[Transfer-Encoding, chunked], [Connection, keep-alive], [CF-Cache-Status, DYNAMIC], \n                    [cf-request-id, 03123bc2bf000067a19e8c6200000001]...}\nImages            : {}\nInputFields       : {}\nLinks             : {@{innerHTML=What is my ip address? - <SMALL>ifconfig.io</SMALL> ; innerText=What is my ip \n                    address? - ifconfig.io ; outerHTML=<A class=h1 href=\"/\">What is my ip address? - \n                    <SMALL>ifconfig.io</SMALL> </A>; outerText=What is my ip address? - ifconfig.io ; tagName=A; \n                    class=h1; href=/}}\nParsedHtml        : mshtml.HTMLDocumentClass\nRawContentLength  : 5382\n\n\n\n",
                    "output_type": "stream"
                }
            ],
            "execution_count": 4
        },
        {
            "cell_type": "markdown",
            "source": [
                "## Importamos el modulo powershell de azure\r\n",
                "Vamos a ver un simple ejemplo de powershell y Azure Shell. \r\n",
                ""
            ],
            "metadata": {
                "azdata_cell_guid": "f9889b12-03e1-4883-8510-3cbc225db52a"
            }
        },
        {
            "cell_type": "code",
            "source": [
                "import-module az\r\n",
                "\r\n",
                "Write-Host -ForegroundColor Green \"Nos autenticamos con el azure.\"\r\n",
                "Connect-AzAccount"
            ],
            "metadata": {
                "azdata_cell_guid": "46c84da6-efd3-415c-b832-822f662e5071"
            },
            "outputs": [],
            "execution_count": null
        },
        {
            "cell_type": "markdown",
            "source": [
                "Vamos a actualizar las reglas de acceso a un SQL en azure"
            ],
            "metadata": {
                "azdata_cell_guid": "da1d0276-1a7c-465b-96e3-ae543057da2e"
            }
        },
        {
            "cell_type": "code",
            "source": [
                "$subId = \"02b1c9ee-a9da-49fd-958d-0885fa5c5eb0\"\r\n",
                "\r\n",
                "Write-Host -ForegroundColor Green \"Seleccionamos la subscripcion. En este caso: \" + $subId\r\n",
                "#Select-AzSubscription -SubscriptionId $subId\r\n",
                ""
            ],
            "metadata": {
                "azdata_cell_guid": "dcfceca0-604b-426a-9b16-7312b62cb6d8"
            },
            "outputs": [
                {
                    "output_type": "stream",
                    "name": "stdout",
                    "text": "Seleccionamos la subscripcion. En este caso:  + 02b1c9ee-a9da-49fd-958d-0885fa5c5eb0\n"
                }
            ],
            "execution_count": 3
        },
        {
            "cell_type": "code",
            "source": [
                "$dbName = \"cubo\"\r\n",
                "$serverName = \"lazarsql\"\r\n",
                "$resourceGroupName = \"RG-LazarSQL\"\r\n",
                "#$azureDB = Get-AzSqlDatabase -DatabaseName $dbName -ServerName $serverName -ResourceGroupName $resourceGroupName\r\n",
                "$ruleName = \"IP_Lazar_Residencial\"\r\n",
                "\r\n",
                "\r\n",
                "Write-Host -ForegroundColor Green \"Actualizamos la regla\"\r\n",
                "Set-AzSqlServerFirewallRule -ServerName $serverName -ResourceGroupName $resourceGroupName -Name $ruleName -StartIpAddress $NuevaIP -EndIpAddress $NuevaIP"
            ],
            "metadata": {
                "azdata_cell_guid": "01e97732-386a-45bd-8e7d-39d2b73b0a6c"
            },
            "outputs": [],
            "execution_count": null
        }
    ]
}